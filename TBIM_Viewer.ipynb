{
 "cells": [
  {
   "cell_type": "markdown",
   "id": "b153d26b",
   "metadata": {},
   "source": [
    "# Import"
   ]
  },
  {
   "cell_type": "code",
   "execution_count": 1,
   "id": "252176a8",
   "metadata": {},
   "outputs": [
    {
     "name": "stderr",
     "output_type": "stream",
     "text": [
      "/Users/hariveliki/Dev/github/TBIM/.venv/lib/python3.10/site-packages/tqdm/auto.py:21: TqdmWarning: IProgress not found. Please update jupyter and ipywidgets. See https://ipywidgets.readthedocs.io/en/stable/user_install.html\n",
      "  from .autonotebook import tqdm as notebook_tqdm\n"
     ]
    }
   ],
   "source": [
    "# Import topologicpy modules\n",
    "from topologicpy.Topology import Topology\n",
    "from topologicpy.CellComplex import CellComplex\n",
    "from topologicpy.Cell import Cell\n",
    "from topologicpy.Color import Color\n",
    "from topologicpy.Dictionary import Dictionary\n",
    "from topologicpy.Plotly import Plotly \n",
    "from topologicpy.Face import Face "
   ]
  },
  {
   "cell_type": "code",
   "execution_count": 2,
   "id": "70d6f293",
   "metadata": {},
   "outputs": [],
   "source": [
    "# Import Python file with plot functions\n",
    "import TBIM "
   ]
  },
  {
   "cell_type": "code",
   "execution_count": 3,
   "id": "1edc0182",
   "metadata": {},
   "outputs": [],
   "source": [
    "# Set True to Plot\n",
    "plot = True"
   ]
  },
  {
   "cell_type": "markdown",
   "id": "b7e331c4",
   "metadata": {},
   "source": [
    "# CellComplex"
   ]
  },
  {
   "cell_type": "code",
   "execution_count": 4,
   "id": "c5bc5b6f",
   "metadata": {},
   "outputs": [
    {
     "data": {
      "text/plain": [
       "[<topologic_core.CellComplex at 0x1389af270>]"
      ]
     },
     "execution_count": 4,
     "metadata": {},
     "output_type": "execute_result"
    }
   ],
   "source": [
    "# Import the TBIM CellComplex\n",
    "cellComplex = Topology.ByJSONPath('BIM/TBIM_Topologic.json')\n",
    "cellComplex"
   ]
  },
  {
   "cell_type": "markdown",
   "id": "7e71078f",
   "metadata": {},
   "source": [
    "# Plot"
   ]
  },
  {
   "cell_type": "markdown",
   "id": "878f3cad",
   "metadata": {},
   "source": [
    "## Cells"
   ]
  },
  {
   "cell_type": "code",
   "execution_count": 5,
   "id": "30ffb8a1",
   "metadata": {},
   "outputs": [
    {
     "ename": "TypeError",
     "evalue": "'NoneType' object is not iterable",
     "output_type": "error",
     "traceback": [
      "\u001b[0;31m---------------------------------------------------------------------------\u001b[0m",
      "\u001b[0;31mTypeError\u001b[0m                                 Traceback (most recent call last)",
      "Cell \u001b[0;32mIn[5], line 3\u001b[0m\n\u001b[1;32m      1\u001b[0m \u001b[38;5;66;03m# OccupancyType\u001b[39;00m\n\u001b[1;32m      2\u001b[0m \u001b[38;5;28;01mif\u001b[39;00m plot:\n\u001b[0;32m----> 3\u001b[0m     \u001b[43mTBIM\u001b[49m\u001b[38;5;241;43m.\u001b[39;49m\u001b[43mPlot_CellsByKey\u001b[49m\u001b[43m(\u001b[49m\n\u001b[1;32m      4\u001b[0m \u001b[43m        \u001b[49m\u001b[43mcellComplex\u001b[49m\u001b[38;5;241;43m=\u001b[39;49m\u001b[43mcellComplex\u001b[49m\u001b[43m,\u001b[49m\n\u001b[1;32m      5\u001b[0m \u001b[43m        \u001b[49m\u001b[43mkey\u001b[49m\u001b[38;5;241;43m=\u001b[39;49m\u001b[38;5;124;43m\"\u001b[39;49m\u001b[38;5;124;43mpr_OccupancyType\u001b[39;49m\u001b[38;5;124;43m\"\u001b[39;49m\u001b[43m,\u001b[49m\n\u001b[1;32m      6\u001b[0m \u001b[43m        \u001b[49m\u001b[43mkeyType\u001b[49m\u001b[38;5;241;43m=\u001b[39;49m\u001b[38;5;124;43m\"\u001b[39;49m\u001b[38;5;124;43mstr\u001b[39;49m\u001b[38;5;124;43m\"\u001b[39;49m\u001b[43m,\u001b[49m\n\u001b[1;32m      7\u001b[0m \u001b[43m        \u001b[49m\u001b[43mcolorScale\u001b[49m\u001b[38;5;241;43m=\u001b[39;49m\u001b[38;5;124;43m\"\u001b[39;49m\u001b[38;5;124;43mturbo\u001b[39;49m\u001b[38;5;124;43m\"\u001b[39;49m\u001b[43m,\u001b[49m\n\u001b[1;32m      8\u001b[0m \u001b[43m        \u001b[49m\u001b[43munitsString\u001b[49m\u001b[38;5;241;43m=\u001b[39;49m\u001b[38;5;124;43m\"\u001b[39;49m\u001b[38;5;124;43m\"\u001b[39;49m\u001b[43m,\u001b[49m\n\u001b[1;32m      9\u001b[0m \u001b[43m    \u001b[49m\u001b[43m)\u001b[49m\n",
      "File \u001b[0;32m~/Dev/github/TBIM/TBIM.py:46\u001b[0m, in \u001b[0;36mPlot_CellsByKey\u001b[0;34m(cellComplex, key, keyType, faceOpacity, camera, target, up, colorScale, unitsString, savePath)\u001b[0m\n\u001b[1;32m     39\u001b[0m dataList \u001b[38;5;241m=\u001b[39m []\n\u001b[1;32m     40\u001b[0m data \u001b[38;5;241m=\u001b[39m Plotly\u001b[38;5;241m.\u001b[39mDataByTopology(\n\u001b[1;32m     41\u001b[0m     cellComplex,\n\u001b[1;32m     42\u001b[0m     faceOpacity\u001b[38;5;241m=\u001b[39mfaceOpacity,\n\u001b[1;32m     43\u001b[0m     showVertexLegend\u001b[38;5;241m=\u001b[39m\u001b[38;5;28;01mFalse\u001b[39;00m,\n\u001b[1;32m     44\u001b[0m     showEdgeLegend\u001b[38;5;241m=\u001b[39m\u001b[38;5;28;01mFalse\u001b[39;00m,\n\u001b[1;32m     45\u001b[0m )\n\u001b[0;32m---> 46\u001b[0m dataList \u001b[38;5;241m+\u001b[39m\u001b[38;5;241m=\u001b[39m data\n\u001b[1;32m     48\u001b[0m \u001b[38;5;66;03m# Str Values\u001b[39;00m\n\u001b[1;32m     49\u001b[0m \u001b[38;5;28;01mif\u001b[39;00m keyType \u001b[38;5;241m==\u001b[39m \u001b[38;5;124m\"\u001b[39m\u001b[38;5;124mstr\u001b[39m\u001b[38;5;124m\"\u001b[39m:\n\u001b[1;32m     50\u001b[0m     \u001b[38;5;66;03m# Values\u001b[39;00m\n",
      "\u001b[0;31mTypeError\u001b[0m: 'NoneType' object is not iterable"
     ]
    },
    {
     "name": "stderr",
     "output_type": "stream",
     "text": [
      "Bad pipe message: %s [b'\"Chromium\";v=\"134\", \"Not:A-Brand\";v=\"24\", \"Microsoft Edge']\n",
      "Bad pipe message: %s [b'v=\"134\"\\r\\nsec-ch-ua-mobile: ?0\\r\\nse', b'ch-ua-platform: \"macOS\"\\r\\nUpgrade-Insecure-Requests: 1\\r\\nUser-Agent: Mozilla/5.0 (Macintosh; Intel M', b' OS X 10_15_7) AppleWebKit/537.36 (KHTML, like Gecko) Chrome/134.0.0.0 Safari/537.36 Edg/134.0.0', b'\\r\\nAccept: text/html,application/xhtml+xml,app']\n",
      "Bad pipe message: %s [b'cation/xml;q=0.9,image/avif,image/webp,image/apng,*/*;q=0.8,application/signed-exchange;v=b3;q=0.7\\r\\nSec-Fet', b'-Site: none\\r\\nSec-Fetch-Mode: navigate\\r\\nSec-Fetch-User: ?1\\r\\nSec-Fetch-Dest: document\\r\\nAccept-Encodi']\n",
      "Bad pipe message: %s [b'ol: max-age=0\\r\\nsec-ch-ua: \"Chromium\";v=\"134\", \"Not:A-Brand\";v=\"24\", \"Microsoft Edge\";v=\"134\"\\r\\nsec-ch-ua-mobile: ?0\\r']\n",
      "Bad pipe message: %s [b'ec-ch-ua-', b'atform: \"macOS\"\\r\\nUpgrade-Insecure-Requests: 1\\r\\nUser-Agent: Mozilla/5.0 (Macintosh; Intel Mac OS X 10_15_7) Appl']\n",
      "Bad pipe message: %s [b'ebKit/537.36 (KHTML, like Gecko) Chrome/134.0.0.0 Safari/537.36 Edg/134.0.0.0\\r\\nAccept: text/html,app', b'cation/xhtml+xml,application/xml;q=0.9,image/avif,image/webp,image/apng,*/*;q=0.8,application/signed-exchan', b';v=b3;q=0.7\\r\\nSec-Fetch-Site: none\\r\\nSec-Fetch-Mode: navigate\\r\\nSec-Fetch-User: ?1\\r\\nSec-Fetch-Dest: docum', b't\\r\\nAccept-Encoding: gzip, deflate, br, zstd\\r\\nAccept-Language: en-US,en;q=0.9,de-DE;q=0.8,de-CH;q=0.7']\n",
      "Bad pipe message: %s [b'ol: max-age=0\\r\\nsec-ch-ua: \"Chromium\";v=\"134\", \"Not:A-Brand\";v=\"24\", \"Microsoft Edge\";v=\"134\"\\r\\nsec-ch-ua-mobile: ?0\\r']\n",
      "Bad pipe message: %s [b'ec-ch-ua-', b'atform: \"macOS\"\\r\\nUpgrade-Insecure-Requests: 1\\r\\nUser-Agent: Mozilla/5.0 (Macintosh; Intel Mac OS X 10_15_7) Appl']\n",
      "Bad pipe message: %s [b'ebKit/537.36 (KHTML, like Gecko) Chrome/134.0.0.0 Safari/537.36 Edg/134.0.0.0\\r\\nAccept: text/html,app', b'cation/xhtml+xml,application/xml;q=0.9,image/avif,image/webp,image/apng,*/*;q=0.8,application/signed-exchan', b';v=b3;q=0.7\\r\\nSec-Fetch-Site: none\\r\\nSec-Fetch-Mode: navigate\\r\\nSec-Fetch-User: ?1\\r\\nSec-Fetch-Dest: docum', b't\\r\\nAccept-Encoding: gzip, deflate, br, zstd\\r\\nAccept-Language: en-US,en;q=0.9,de-DE;q=0.8,de-CH;q=0.7']\n"
     ]
    }
   ],
   "source": [
    "# OccupancyType\n",
    "if plot:\n",
    "    TBIM.Plot_CellsByKey(\n",
    "        cellComplex=cellComplex,\n",
    "        key=\"pr_OccupancyType\",\n",
    "        keyType=\"str\",\n",
    "        colorScale=\"turbo\",\n",
    "        unitsString=\"\",\n",
    "    )"
   ]
  },
  {
   "cell_type": "code",
   "execution_count": 9,
   "id": "b160d7f5",
   "metadata": {},
   "outputs": [],
   "source": [
    "# CirculationType\n",
    "if plot:\n",
    "    TBIM.Plot_CellsByKey(cellComplex,key=\"pr_CirculationType\",keyType=\"str\",colorScale='turbo',unitsString=\"\")"
   ]
  },
  {
   "cell_type": "code",
   "execution_count": 10,
   "id": "67e3e08b",
   "metadata": {},
   "outputs": [],
   "source": [
    "# AreaPerOccupant\n",
    "if plot:\n",
    "    TBIM.Plot_CellsByKey(cellComplex,key=\"pr_AreaPerOccupantPeak\",keyType=\"num\",colorScale='viridis',unitsString=\"sqm/pp\")"
   ]
  },
  {
   "cell_type": "code",
   "execution_count": 11,
   "id": "639b2e40",
   "metadata": {},
   "outputs": [],
   "source": [
    "# IsHeated\n",
    "if plot:\n",
    "    TBIM.Plot_CellsByKey(cellComplex,key=\"pr_IsHeated\",keyType=\"num\",colorScale='inferno',unitsString=\"bool\")"
   ]
  },
  {
   "cell_type": "markdown",
   "id": "b1c3a331",
   "metadata": {},
   "source": [
    "## Faces"
   ]
  },
  {
   "cell_type": "code",
   "execution_count": 12,
   "id": "ef3e2181",
   "metadata": {},
   "outputs": [],
   "source": [
    "# FaceExposure\n",
    "if plot:\n",
    "    TBIM.Plot_FacesByKey(cellComplex,CellComplex.Decompose(cellComplex)['externalVerticalFaces'],\n",
    "                     key=\"pr_FaceExposure\",keyType=\"str\",colorScale='turbo',unitsString=\"\")"
   ]
  },
  {
   "cell_type": "code",
   "execution_count": 13,
   "id": "cae5c9df",
   "metadata": {},
   "outputs": [],
   "source": [
    "# WallTypeName\n",
    "if plot:\n",
    "    TBIM.Plot_FacesByKey(cellComplex,\n",
    "                     CellComplex.Decompose(cellComplex)['externalVerticalFaces']+CellComplex.Decompose(cellComplex)['internalVerticalFaces'],\n",
    "                     key=\"pr_WallTypeName\",keyType=\"str\",colorScale='turbo',unitsString=\"\")"
   ]
  },
  {
   "cell_type": "markdown",
   "id": "952ce762",
   "metadata": {},
   "source": [
    "## Apertures"
   ]
  },
  {
   "cell_type": "code",
   "execution_count": 14,
   "id": "8c54e53a",
   "metadata": {},
   "outputs": [],
   "source": [
    "# U-Value\n",
    "if plot:\n",
    "    TBIM.Plot_AperturesByKey(cellComplex,\n",
    "                         CellComplex.Decompose(cellComplex)['externalVerticalFaces'],\n",
    "                         'pr_UValue')"
   ]
  },
  {
   "cell_type": "code",
   "execution_count": 15,
   "id": "dcfdc5b1",
   "metadata": {},
   "outputs": [],
   "source": [
    "# Width\n",
    "if plot:\n",
    "    TBIM.Plot_AperturesByKey(cellComplex,\n",
    "                         CellComplex.Decompose(cellComplex)['externalVerticalFaces'],\n",
    "                         'pr_Width')"
   ]
  },
  {
   "cell_type": "markdown",
   "id": "2b0819be",
   "metadata": {},
   "source": [
    "## Graph"
   ]
  },
  {
   "cell_type": "code",
   "execution_count": 16,
   "id": "c1ca3722",
   "metadata": {},
   "outputs": [],
   "source": [
    "if plot:\n",
    "    TBIM.Plot_PassageGraph(cellComplex,vertexSize=5,edgeWidth=3)"
   ]
  }
 ],
 "metadata": {
  "kernelspec": {
   "display_name": ".venv",
   "language": "python",
   "name": "python3"
  },
  "language_info": {
   "codemirror_mode": {
    "name": "ipython",
    "version": 3
   },
   "file_extension": ".py",
   "mimetype": "text/x-python",
   "name": "python",
   "nbconvert_exporter": "python",
   "pygments_lexer": "ipython3",
   "version": "3.10.14"
  }
 },
 "nbformat": 4,
 "nbformat_minor": 5
}
