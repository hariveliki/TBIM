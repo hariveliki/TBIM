{
 "cells": [
  {
   "cell_type": "markdown",
   "id": "837b8574",
   "metadata": {},
   "source": [
    "# Import"
   ]
  },
  {
   "cell_type": "code",
   "execution_count": 1,
   "id": "1e8b2847",
   "metadata": {},
   "outputs": [
    {
     "name": "stderr",
     "output_type": "stream",
     "text": [
      "/Users/hariveliki/Dev/github/TBIM/.venv/lib/python3.10/site-packages/tqdm/auto.py:21: TqdmWarning: IProgress not found. Please update jupyter and ipywidgets. See https://ipywidgets.readthedocs.io/en/stable/user_install.html\n",
      "  from .autonotebook import tqdm as notebook_tqdm\n"
     ]
    }
   ],
   "source": [
    "from topologicpy.Topology import Topology\n",
    "from topologicpy.CellComplex import CellComplex\n",
    "import time"
   ]
  },
  {
   "cell_type": "markdown",
   "id": "c155cec6",
   "metadata": {},
   "source": [
    "# Build CellComplex\n"
   ]
  },
  {
   "cell_type": "code",
   "execution_count": 2,
   "id": "54f3a05e",
   "metadata": {},
   "outputs": [],
   "source": [
    "# FaceClusters by BREPs\n",
    "clusterA = Topology.ByBREPPath('BReps/BlockA.brep')\n",
    "clusterB = Topology.ByBREPPath('BReps/BlockB.brep')\n",
    "# CellComplexes by FaceClusters\n",
    "cellComplexA=CellComplex.ByFacesCluster(clusterA)\n",
    "cellComplexB=CellComplex.ByFacesCluster(clusterB)\n",
    "# Cells by CellComplexes\n",
    "cells=CellComplex.Cells(cellComplexA)+CellComplex.Cells(cellComplexB)"
   ]
  },
  {
   "cell_type": "markdown",
   "id": "05410c74",
   "metadata": {},
   "source": [
    "# Compute time"
   ]
  },
  {
   "cell_type": "code",
   "execution_count": 3,
   "id": "c130f1c9",
   "metadata": {},
   "outputs": [
    {
     "name": "stdout",
     "output_type": "stream",
     "text": [
      "{'nOfCells': 5, 'nOfFaces': 50, 'time': 0.23126220703125}\n",
      "{'nOfCells': 10, 'nOfFaces': 74, 'time': 0.5547630786895752}\n",
      "{'nOfCells': 15, 'nOfFaces': 98, 'time': 0.7779719829559326}\n",
      "{'nOfCells': 20, 'nOfFaces': 124, 'time': 1.2564871311187744}\n",
      "{'nOfCells': 25, 'nOfFaces': 146, 'time': 1.4954979419708252}\n",
      "{'nOfCells': 30, 'nOfFaces': 165, 'time': 1.8158421516418457}\n",
      "{'nOfCells': 35, 'nOfFaces': 201, 'time': 2.822878837585449}\n",
      "{'nOfCells': 40, 'nOfFaces': 218, 'time': 3.539376974105835}\n",
      "{'nOfCells': 45, 'nOfFaces': 245, 'time': 4.5429911613464355}\n",
      "{'nOfCells': 50, 'nOfFaces': 264, 'time': 5.2717790603637695}\n",
      "{'nOfCells': 55, 'nOfFaces': 290, 'time': 6.1397340297698975}\n",
      "{'nOfCells': 60, 'nOfFaces': 317, 'time': 6.845536947250366}\n",
      "{'nOfCells': 65, 'nOfFaces': 333, 'time': 7.367593765258789}\n"
     ]
    }
   ],
   "source": [
    "# Time required for creating a CellComplex by Cells\n",
    "data=[]\n",
    "for i in range(1, len(cells)):\n",
    "    if i % 5 == 0:\n",
    "        cellsToCellComplex = cells[0:i]\n",
    "        # Time\n",
    "        start_time = time.time()\n",
    "        testCellComplex = CellComplex.ByCells(cellsToCellComplex)\n",
    "        end_time = time.time()\n",
    "        elapsed_time = end_time - start_time\n",
    "        # Result\n",
    "        result = {\n",
    "            'nOfCells':len(cellsToCellComplex),\n",
    "            'nOfFaces':len(CellComplex.Faces(testCellComplex)),\n",
    "            'time':elapsed_time\n",
    "        }\n",
    "        print(result)\n",
    "        data.append(result)"
   ]
  },
  {
   "cell_type": "markdown",
   "id": "25a1576d",
   "metadata": {},
   "source": [
    "# Plot results"
   ]
  },
  {
   "cell_type": "code",
   "execution_count": 6,
   "id": "eb689099",
   "metadata": {},
   "outputs": [
    {
     "ename": "KeyError",
     "evalue": "'nOfVertices'",
     "output_type": "error",
     "traceback": [
      "\u001b[0;31m---------------------------------------------------------------------------\u001b[0m",
      "\u001b[0;31mKeyError\u001b[0m                                  Traceback (most recent call last)",
      "Cell \u001b[0;32mIn[6], line 7\u001b[0m\n\u001b[1;32m      5\u001b[0m nOfCells_values \u001b[38;5;241m=\u001b[39m [entry[\u001b[38;5;124m'\u001b[39m\u001b[38;5;124mnOfCells\u001b[39m\u001b[38;5;124m'\u001b[39m] \u001b[38;5;28;01mfor\u001b[39;00m entry \u001b[38;5;129;01min\u001b[39;00m data]\n\u001b[1;32m      6\u001b[0m nOfFaces_values \u001b[38;5;241m=\u001b[39m [entry[\u001b[38;5;124m'\u001b[39m\u001b[38;5;124mnOfFaces\u001b[39m\u001b[38;5;124m'\u001b[39m] \u001b[38;5;28;01mfor\u001b[39;00m entry \u001b[38;5;129;01min\u001b[39;00m data]\n\u001b[0;32m----> 7\u001b[0m nOfVertices_values \u001b[38;5;241m=\u001b[39m [entry[\u001b[38;5;124m'\u001b[39m\u001b[38;5;124mnOfVertices\u001b[39m\u001b[38;5;124m'\u001b[39m] \u001b[38;5;28;01mfor\u001b[39;00m entry \u001b[38;5;129;01min\u001b[39;00m data]\n\u001b[1;32m      8\u001b[0m time_values \u001b[38;5;241m=\u001b[39m [entry[\u001b[38;5;124m'\u001b[39m\u001b[38;5;124mtime\u001b[39m\u001b[38;5;124m'\u001b[39m] \u001b[38;5;28;01mfor\u001b[39;00m entry \u001b[38;5;129;01min\u001b[39;00m data]\n\u001b[1;32m     10\u001b[0m \u001b[38;5;66;03m# nOfCells/time\u001b[39;00m\n",
      "Cell \u001b[0;32mIn[6], line 7\u001b[0m, in \u001b[0;36m<listcomp>\u001b[0;34m(.0)\u001b[0m\n\u001b[1;32m      5\u001b[0m nOfCells_values \u001b[38;5;241m=\u001b[39m [entry[\u001b[38;5;124m'\u001b[39m\u001b[38;5;124mnOfCells\u001b[39m\u001b[38;5;124m'\u001b[39m] \u001b[38;5;28;01mfor\u001b[39;00m entry \u001b[38;5;129;01min\u001b[39;00m data]\n\u001b[1;32m      6\u001b[0m nOfFaces_values \u001b[38;5;241m=\u001b[39m [entry[\u001b[38;5;124m'\u001b[39m\u001b[38;5;124mnOfFaces\u001b[39m\u001b[38;5;124m'\u001b[39m] \u001b[38;5;28;01mfor\u001b[39;00m entry \u001b[38;5;129;01min\u001b[39;00m data]\n\u001b[0;32m----> 7\u001b[0m nOfVertices_values \u001b[38;5;241m=\u001b[39m [\u001b[43mentry\u001b[49m\u001b[43m[\u001b[49m\u001b[38;5;124;43m'\u001b[39;49m\u001b[38;5;124;43mnOfVertices\u001b[39;49m\u001b[38;5;124;43m'\u001b[39;49m\u001b[43m]\u001b[49m \u001b[38;5;28;01mfor\u001b[39;00m entry \u001b[38;5;129;01min\u001b[39;00m data]\n\u001b[1;32m      8\u001b[0m time_values \u001b[38;5;241m=\u001b[39m [entry[\u001b[38;5;124m'\u001b[39m\u001b[38;5;124mtime\u001b[39m\u001b[38;5;124m'\u001b[39m] \u001b[38;5;28;01mfor\u001b[39;00m entry \u001b[38;5;129;01min\u001b[39;00m data]\n\u001b[1;32m     10\u001b[0m \u001b[38;5;66;03m# nOfCells/time\u001b[39;00m\n",
      "\u001b[0;31mKeyError\u001b[0m: 'nOfVertices'"
     ]
    }
   ],
   "source": [
    "# Plot graphs\n",
    "import matplotlib.pyplot as plt\n",
    "\n",
    "# Extracting values for the x and y axes\n",
    "nOfCells_values = [entry['nOfCells'] for entry in data]\n",
    "nOfFaces_values = [entry['nOfFaces'] for entry in data]\n",
    "nOfVertices_values = [entry['nOfVertices'] for entry in data]\n",
    "time_values = [entry['time'] for entry in data]\n",
    "\n",
    "# nOfCells/time\n",
    "plt.figure(figsize=(6, 4))  # Set the figure size\n",
    "plt.plot(nOfCells_values, time_values, marker='o', linestyle='-', color='black')\n",
    "plt.xlabel('Number Of Cells')\n",
    "plt.ylabel('Time')\n",
    "plt.grid(True)\n",
    "#plt.savefig('nOfCells-time.png')\n",
    "plt.show()\n",
    "\n",
    "\n",
    "# nOfFaces/time\n",
    "plt.figure(figsize=(6, 4))  # Set the figure size\n",
    "plt.plot(nOfFaces_values, time_values, marker='o', linestyle='-', color='black')\n",
    "plt.xlabel('Number Of Faces')\n",
    "plt.ylabel('Time')\n",
    "plt.grid(True)\n",
    "#plt.savefig('nOfFaces-time.png')\n",
    "plt.show()\n"
   ]
  },
  {
   "cell_type": "code",
   "execution_count": null,
   "id": "b40f68ff",
   "metadata": {},
   "outputs": [],
   "source": []
  }
 ],
 "metadata": {
  "kernelspec": {
   "display_name": ".venv",
   "language": "python",
   "name": "python3"
  },
  "language_info": {
   "codemirror_mode": {
    "name": "ipython",
    "version": 3
   },
   "file_extension": ".py",
   "mimetype": "text/x-python",
   "name": "python",
   "nbconvert_exporter": "python",
   "pygments_lexer": "ipython3",
   "version": "3.10.14"
  }
 },
 "nbformat": 4,
 "nbformat_minor": 5
}
